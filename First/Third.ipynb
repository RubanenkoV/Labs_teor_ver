{
 "cells": [
  {
   "cell_type": "code",
   "execution_count": 3,
   "metadata": {},
   "outputs": [
    {
     "name": "stdout",
     "output_type": "stream",
     "text": [
      "Комбінації довжини 2 множини {1, 2, 3, 4}: [(1, 2), (1, 3), (1, 4), (2, 3), (2, 4), (3, 4)]\n",
      "Кількість таких комбінацій: 6\n",
      "Комбінації довжини 3 множини {1, 2, 3, 4}: [(1, 2, 3), (1, 2, 4), (1, 3, 4), (2, 3, 4)]\n",
      "Кількість таких комбінацій: 4\n",
      "Комбінації довжини 2 множини {1, 2, 3, 4, 5}: [(1, 2), (1, 3), (1, 4), (1, 5), (2, 3), (2, 4), (2, 5), (3, 4), (3, 5), (4, 5)]\n",
      "Кількість таких комбінацій: 10\n"
     ]
    }
   ],
   "source": [
    "from itertools import combinations\n",
    "\n",
    "A = {1, 2, 3,4}\n",
    "k = 2\n",
    "choose_k = list(combinations(A,k))\n",
    "print(\"Комбінації довжини {} множини {}: {}\".format(k,A,choose_k))\n",
    "print(\"Кількість таких комбінацій: {}\".format(len(choose_k)  ))\n",
    "A = {1, 2, 3,4}\n",
    "k = 3\n",
    "choose_k = list(combinations(A,k))\n",
    "print(\"Комбінації довжини {} множини {}: {}\".format(k,A,choose_k))\n",
    "print(\"Кількість таких комбінацій: {}\".format(len(choose_k)  ))\n",
    "A = {1, 2, 3, 4, 5}\n",
    "k = 2\n",
    "choose_k = list(combinations(A,k))\n",
    "print(\"Комбінації довжини {} множини {}: {}\".format(k,A,choose_k))\n",
    "print(\"Кількість таких комбінацій: {}\".format(len(choose_k)  ))"
   ]
  },
  {
   "cell_type": "code",
   "execution_count": 2,
   "metadata": {},
   "outputs": [
    {
     "name": "stdout",
     "output_type": "stream",
     "text": [
      "Кількість таких комбінацій: 15\n",
      "Кількість таких комбінацій: 15\n",
      "Кількість таких комбінацій: 70\n"
     ]
    }
   ],
   "source": [
    "A = {1, 2, 3, 4, 5,6}\n",
    "k = 2\n",
    "choose_k = list(combinations(A,k))\n",
    "print(\"Кількість таких комбінацій: {}\".format(len(choose_k)  ))\n",
    "A = {1, 2, 3, 4, 5,6}\n",
    "k = 4\n",
    "choose_k = list(combinations(A,k))\n",
    "print(\"Кількість таких комбінацій: {}\".format(len(choose_k)  ))\n",
    "A = {1, 2, 3, 4, 5,6,7,8}\n",
    "k = 4\n",
    "choose_k = list(combinations(A,k))\n",
    "print(\"Кількість таких комбінацій: {}\".format(len(choose_k)  ))"
   ]
  },
  {
   "cell_type": "code",
   "execution_count": null,
   "metadata": {},
   "outputs": [],
   "source": []
  }
 ],
 "metadata": {
  "kernelspec": {
   "display_name": "Python 3",
   "language": "python",
   "name": "python3"
  },
  "language_info": {
   "codemirror_mode": {
    "name": "ipython",
    "version": 3
   },
   "file_extension": ".py",
   "mimetype": "text/x-python",
   "name": "python",
   "nbconvert_exporter": "python",
   "pygments_lexer": "ipython3",
   "version": "3.7.2"
  }
 },
 "nbformat": 4,
 "nbformat_minor": 2
}
