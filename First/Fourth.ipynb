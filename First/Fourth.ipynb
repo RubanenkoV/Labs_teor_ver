{
 "cells": [
  {
   "cell_type": "code",
   "execution_count": 2,
   "metadata": {},
   "outputs": [
    {
     "name": "stdout",
     "output_type": "stream",
     "text": [
      "Комбінації довжини 2 множини {1, 2, 3, 4}: [(1, 1), (1, 2), (1, 3), (1, 4), (2, 2), (2, 3), (2, 4), (3, 3), (3, 4), (4, 4)]\n",
      "Кількість таких комбінацій: 10\n",
      "Комбінації довжини 3 множини {1, 2, 3, 4}: [(1, 1, 1), (1, 1, 2), (1, 1, 3), (1, 1, 4), (1, 2, 2), (1, 2, 3), (1, 2, 4), (1, 3, 3), (1, 3, 4), (1, 4, 4), (2, 2, 2), (2, 2, 3), (2, 2, 4), (2, 3, 3), (2, 3, 4), (2, 4, 4), (3, 3, 3), (3, 3, 4), (3, 4, 4), (4, 4, 4)]\n",
      "Кількість таких комбінацій: 20\n",
      "Комбінації довжини 2 множини {1, 2, 3, 4, 5}: [(1, 1), (1, 2), (1, 3), (1, 4), (1, 5), (2, 2), (2, 3), (2, 4), (2, 5), (3, 3), (3, 4), (3, 5), (4, 4), (4, 5), (5, 5)]\n",
      "Кількість таких комбінацій: 15\n"
     ]
    }
   ],
   "source": [
    "from itertools import combinations_with_replacement\n",
    "\n",
    "A = {1, 2, 3,4}\n",
    "k = 2\n",
    "choose_k = list(combinations_with_replacement(A,k))\n",
    "print(\"Комбінації довжини {} множини {}: {}\".format(k,A,choose_k))\n",
    "print(\"Кількість таких комбінацій: {}\".format(len(choose_k)  ))\n",
    "A = {1, 2, 3,4}\n",
    "k = 3\n",
    "choose_k = list(combinations_with_replacement(A,k))\n",
    "print(\"Комбінації довжини {} множини {}: {}\".format(k,A,choose_k))\n",
    "print(\"Кількість таких комбінацій: {}\".format(len(choose_k)  ))\n",
    "A = {1, 2, 3, 4, 5}\n",
    "k = 2\n",
    "choose_k = list(combinations_with_replacement(A,k))\n",
    "print(\"Комбінації довжини {} множини {}: {}\".format(k,A,choose_k))\n",
    "print(\"Кількість таких комбінацій: {}\".format(len(choose_k)  ))"
   ]
  },
  {
   "cell_type": "code",
   "execution_count": 3,
   "metadata": {},
   "outputs": [
    {
     "name": "stdout",
     "output_type": "stream",
     "text": [
      "Кількість таких комбінацій: 21\n",
      "Кількість таких комбінацій: 126\n",
      "Кількість таких комбінацій: 330\n"
     ]
    }
   ],
   "source": [
    "A = {1, 2, 3, 4, 5,6}\n",
    "k = 2\n",
    "choose_k = list(combinations_with_replacement(A,k))\n",
    "print(\"Кількість таких комбінацій: {}\".format(len(choose_k)  ))\n",
    "A = {1, 2, 3, 4, 5,6}\n",
    "k = 4\n",
    "choose_k = list(combinations_with_replacement(A,k))\n",
    "print(\"Кількість таких комбінацій: {}\".format(len(choose_k)  ))\n",
    "A = {1, 2, 3, 4, 5,6,7,8}\n",
    "k = 4\n",
    "choose_k = list(combinations_with_replacement(A,k))\n",
    "print(\"Кількість таких комбінацій: {}\".format(len(choose_k)  ))"
   ]
  },
  {
   "cell_type": "code",
   "execution_count": 4,
   "metadata": {},
   "outputs": [
    {
     "name": "stdout",
     "output_type": "stream",
     "text": [
      "Кількість комбінацій 6 цифр, щоб сума перших трьох була б рівною сумі останніх трьох: 55252\n"
     ]
    }
   ],
   "source": [
    "from itertools import product\n",
    "A = {0,1,2,3,4,5,6,7,8,9}\n",
    "\n",
    "spisok = list(product(A, repeat = 6))\n",
    "count = 0\n",
    "for x in spisok:\n",
    "    if x[0] + x[1] + x[2] == x[3] + x[4] + x[5]:\n",
    "        count += 1\n",
    "print(\"Количетсво комбинаций: {}\".format(count))"
   ]
  },
  {
   "cell_type": "code",
   "execution_count": 7,
   "metadata": {},
   "outputs": [
    {
     "name": "stdout",
     "output_type": "stream",
     "text": [
      "Количество комбинаций: 531441\n"
     ]
    }
   ],
   "source": [
    "\n",
    "A = {0, 1, 2, 3, 4, 5, 6, 7, 8, 9}\n",
    "choose_k = list(product(A, repeat = 6))\n",
    "count=0\n",
    "\n",
    "for x in spisok:\n",
    "    flag=True\n",
    "    for i in range(5):\n",
    "        if x[i]==x[i+1] or x[0]==0:\n",
    "            flag=False\n",
    "            break\n",
    "    if flag:count+=1\n",
    "print(\"Количество комбинаций: {}\".format(count))\n",
    "        "
   ]
  },
  {
   "cell_type": "code",
   "execution_count": null,
   "metadata": {},
   "outputs": [],
   "source": []
  }
 ],
 "metadata": {
  "kernelspec": {
   "display_name": "Python 3",
   "language": "python",
   "name": "python3"
  },
  "language_info": {
   "codemirror_mode": {
    "name": "ipython",
    "version": 3
   },
   "file_extension": ".py",
   "mimetype": "text/x-python",
   "name": "python",
   "nbconvert_exporter": "python",
   "pygments_lexer": "ipython3",
   "version": "3.7.2"
  }
 },
 "nbformat": 4,
 "nbformat_minor": 2
}
