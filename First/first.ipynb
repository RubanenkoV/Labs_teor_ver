{
 "cells": [
  {
   "cell_type": "code",
   "execution_count": 5,
   "metadata": {
    "scrolled": true
   },
   "outputs": [
    {
     "name": "stdout",
     "output_type": "stream",
     "text": [
      "Перестановки множини {1, 3, 5}: {(3, 5, 1), (5, 3, 1), (1, 5, 3), (3, 1, 5), (1, 3, 5), (5, 1, 3)}\n",
      "Кількість перестановок:  6\n",
      "Перестановки множини {1, 2, 3, 4}: {(4, 1, 2, 3), (1, 3, 2, 4), (3, 4, 1, 2), (1, 4, 2, 3), (4, 2, 3, 1), (2, 4, 1, 3), (4, 3, 1, 2), (2, 1, 3, 4), (3, 1, 4, 2), (3, 2, 4, 1), (1, 3, 4, 2), (1, 2, 4, 3), (2, 4, 3, 1), (3, 1, 2, 4), (4, 1, 3, 2), (2, 3, 1, 4), (4, 2, 1, 3), (1, 2, 3, 4), (1, 4, 3, 2), (3, 4, 2, 1), (2, 3, 4, 1), (4, 3, 2, 1), (3, 2, 1, 4), (2, 1, 4, 3)}\n",
      "Кількість перестановок:  24\n",
      "Перестановки множини {1, 2}: {(1, 2), (2, 1)}\n",
      "Кількість перестановок:  2\n",
      "Кількість перестановок:  120\n",
      "Кількість перестановок:  5040\n",
      "Кількість перестановок:  3628800\n"
     ]
    }
   ],
   "source": [
    "#1_3\n",
    "def permute(A):\n",
    "    if len(A)==1:\n",
    "        return [tuple(A)]\n",
    "    permutations = []\n",
    "    for x in A:\n",
    "        for y in permute(A-{x}):\n",
    "            permutations.append((x,)+y)\n",
    "    return permutations\n",
    "A = {1, 3, 5}\n",
    "permute_all = set(permute(A))\n",
    "print(\"Перестановки множини {}: {}\".format(A,permute_all))\n",
    "print(\"Кількість перестановок: \", len(permute_all))\n",
    "\n",
    "A = {1, 2, 3, 4}\n",
    "permute_all = set(permute(A))\n",
    "print(\"Перестановки множини {}: {}\".format(A,permute_all))\n",
    "print(\"Кількість перестановок: \", len(permute_all))\n",
    "\n",
    "A = {1, 2, 2, 1}\n",
    "permute_all = set(permute(A))\n",
    "print(\"Перестановки множини {}: {}\".format(A,permute_all))\n",
    "print(\"Кількість перестановок: \", len(permute_all))\n",
    "\n",
    "A = {1, 2, 3, 4, 5}\n",
    "permute_all = set(permute(A))\n",
    "print(\"Кількість перестановок: \", len(permute_all))\n",
    "\n",
    "A = {1, 2, 3, 4, 5, 6, 7}\n",
    "permute_all = set(permute(A))\n",
    "print(\"Кількість перестановок: \", len(permute_all))\n",
    "\n",
    "A = {1, 3, 5, 7, 9, 11, 13, 15, 17,19}\n",
    "permute_all = set(permute(A))\n",
    "print(\"Кількість перестановок: \", len(permute_all))\n",
    "\n"
   ]
  },
  {
   "cell_type": "code",
   "execution_count": 21,
   "metadata": {},
   "outputs": [
    {
     "name": "stdout",
     "output_type": "stream",
     "text": [
      "Перестановки множини без нерухомих точок  {1, 2, 3}: [(3, 1, 2), (2, 3, 1)]\n",
      "Кількість перестановок:  2\n",
      "Перестановки множини без нерухомих точок  {1, 2, 3, 4}: [(4, 1, 2, 3), (3, 4, 1, 2), (2, 4, 1, 3), (4, 3, 1, 2), (3, 1, 4, 2), (3, 4, 2, 1), (2, 3, 4, 1), (4, 3, 2, 1), (2, 1, 4, 3)]\n",
      "Кількість перестановок:  9\n",
      "Перестановки множини без нерухомих точок  {1, 3, 5, 7}: [(5, 1, 7, 3), (5, 7, 3, 1), (3, 5, 7, 1), (3, 7, 1, 5), (7, 5, 1, 3), (7, 1, 3, 5), (5, 7, 1, 3), (3, 1, 7, 5), (7, 5, 3, 1)]\n",
      "Кількість перестановок:  9\n",
      "Перестановки множини без нерухомих точок  {1, 2}: [(2, 1)]\n",
      "Кількість перестановок:  1\n"
     ]
    }
   ],
   "source": [
    "#1_4\n",
    "def permute(A):\n",
    "    if len(A)==1:\n",
    "        return [tuple(A)]\n",
    "    permutations = []\n",
    "    for x in A:\n",
    "        for y in permute(A-{x}):\n",
    "            permutations.append((x,)+y)\n",
    "    return permutations\n",
    "def cheak(A, B):\n",
    "    spisok=[]\n",
    "    \n",
    "    for x in B:\n",
    "        flag=True\n",
    "        for i in range(len(A)):\n",
    "            if x[i]==A[i]:\n",
    "                flag=False\n",
    "                break\n",
    "        if flag:spisok.append(x)\n",
    "    return spisok\n",
    "A={1, 2, 3}\n",
    "permute_all = set(permute(A))\n",
    "print(\"Перестановки множини без нерухомих точок  {}: {}\".format(A,cheak(list(A),permute_all)))\n",
    "print(\"Кількість перестановок: \", len(cheak(list(A),permute_all)))\n",
    "A={1, 2, 3, 4}\n",
    "permute_all = set(permute(A))\n",
    "print(\"Перестановки множини без нерухомих точок  {}: {}\".format(A,cheak(list(A),permute_all)))\n",
    "print(\"Кількість перестановок: \", len(cheak(list(A),permute_all)))\n",
    "A={1, 3, 5, 7}\n",
    "permute_all = set(permute(A))\n",
    "print(\"Перестановки множини без нерухомих точок  {}: {}\".format(A,cheak(list(A),permute_all)))\n",
    "print(\"Кількість перестановок: \", len(cheak(list(A),permute_all)))\n",
    "A={1, 2, 2, 1}\n",
    "permute_all = set(permute(A))\n",
    "print(\"Перестановки множини без нерухомих точок  {}: {}\".format(A,cheak(list(A),permute_all)))\n",
    "print(\"Кількість перестановок: \", len(cheak(list(A),permute_all)))"
   ]
  },
  {
   "cell_type": "code",
   "execution_count": 22,
   "metadata": {},
   "outputs": [
    {
     "name": "stdout",
     "output_type": "stream",
     "text": [
      "количество перестановок данного множества -  40320\n",
      "количество перестановок удовлетворяющие условию -  35\n",
      "second task\n",
      "количество перестановок данного множества -  3628800\n",
      "количество перестановок удовлетворяющие условию -  126\n"
     ]
    }
   ],
   "source": [
    "#1_5\n",
    "def permute(A):\n",
    "    if len(A)==1:\n",
    "        return [tuple(A)]\n",
    "    permutations = []\n",
    "    for x in A:\n",
    "        for y in permute(A-{x}):\n",
    "            permutations.append((x,)+y)\n",
    "    return permutations\n",
    "def reload(permute_all):    \n",
    "    spisok=[]\n",
    "    for x in permute_all:\n",
    "        flag=True\n",
    "        for y in range(4):\n",
    "            if x[y]>x[y+1]:\n",
    "                flag=False\n",
    "                break\n",
    "        for y in range(4,len(x)-1):\n",
    "            if x[y]<x[y+1]:\n",
    "                flag=False\n",
    "                break\n",
    "        if flag:spisok.append(x)\n",
    "        \n",
    "    return spisok\n",
    "A = {1, 2, 3, 4, 5, 6, 7, 8}\n",
    "permute_all = set(permute(A))\n",
    "print(\"количество перестановок данного множества - \",len(permute_all))\n",
    "print(\"количество перестановок удовлетворяющие условию - \",len(reload(permute_all)))\n",
    "print(\"second task\")\n",
    "B = {1, 2, 3, 4, 5, 6, 7, 8, 9, 10}\n",
    "permute_all = set(permute(B))\n",
    "print(\"количество перестановок данного множества - \",len(permute_all))\n",
    "print(\"количество перестановок удовлетворяющие условию - \",len(reload(permute_all)))"
   ]
  },
  {
   "cell_type": "code",
   "execution_count": null,
   "metadata": {},
   "outputs": [],
   "source": []
  }
 ],
 "metadata": {
  "kernelspec": {
   "display_name": "Python 3",
   "language": "python",
   "name": "python3"
  },
  "language_info": {
   "codemirror_mode": {
    "name": "ipython",
    "version": 3
   },
   "file_extension": ".py",
   "mimetype": "text/x-python",
   "name": "python",
   "nbconvert_exporter": "python",
   "pygments_lexer": "ipython3",
   "version": "3.7.2"
  }
 },
 "nbformat": 4,
 "nbformat_minor": 1
}
