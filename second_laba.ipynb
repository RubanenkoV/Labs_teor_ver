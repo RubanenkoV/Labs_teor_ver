{
 "cells": [
  {
   "cell_type": "code",
   "execution_count": 1,
   "metadata": {},
   "outputs": [
    {
     "name": "stdout",
     "output_type": "stream",
     "text": [
      "m7Yi<W4;{f\n"
     ]
    }
   ],
   "source": [
    "# first task\n",
    "import numpy as np\n",
    "\n",
    "a1 = [1, 2, 3, 4, 5, 6, 7, 8, 9, 0]\n",
    "a2 = [chr(i) for i in range(ord('a'), ord('z')+1)]\n",
    "a3 = [chr(i) for i in range(ord('A'), ord('Z')+1)]\n",
    "a4 = list('~!@#$%^&*()-_+=\\/{}[].,?<>:;')\n",
    "p = [a1, a2, a3, a4]\n",
    "ans = [np.random.choice(i) for i in p]\n",
    "ans1 = list(np.random.choice(a1 + a2 +a3 +a4,size = 6))\n",
    "pas = ans + ans1\n",
    "np.random.shuffle(pas)\n",
    "print(''.join(list(map(str, pas))))"
   ]
  },
  {
   "cell_type": "code",
   "execution_count": 2,
   "metadata": {},
   "outputs": [
    {
     "name": "stdout",
     "output_type": "stream",
     "text": [
      "Ймовірність випадіння 2 гербів при n = 10 : 0.2\n",
      "Ймовірність випадіння 3 гербів при n = 10 : 0.0\n",
      "Ймовірність випадіння 2 гербів при n = 50 : 0.14\n",
      "Ймовірність випадіння 3 гербів при n = 50 : 0.0\n",
      "Ймовірність випадіння 2 гербів при n = 100 : 0.14\n",
      "Ймовірність випадіння 3 гербів при n = 100 : 0.05\n",
      "Ймовірність випадіння 2 гербів при n = 500 : 0.244\n",
      "Ймовірність випадіння 3 гербів при n = 500 : 0.122\n",
      "Ймовірність випадіння 2 гербів при n = 1000 : 0.267\n",
      "Ймовірність випадіння 3 гербів при n = 1000 : 0.13\n",
      "Ймовірність випадіння 2 гербів при n = 5000 : 0.2578\n",
      "Ймовірність випадіння 3 гербів при n = 5000 : 0.1328\n",
      "Ймовірність випадіння 2 гербів при n = 10000 : 0.248\n",
      "Ймовірність випадіння 3 гербів при n = 10000 : 0.121\n"
     ]
    }
   ],
   "source": [
    "# second task\n",
    "import numpy as np\n",
    "\n",
    "def check_repeats(list1,k):\n",
    "    count = 0\n",
    "    heads = []\n",
    "    for i in range(k):\n",
    "        heads.append('H')\n",
    "    for j in range(k,len(list1) + 1):\n",
    "        if list1[j-k:j] == heads:\n",
    "            count += 1\n",
    "    return count\n",
    "\n",
    "n = [10,50, 100, 500, 1000, 5000, 10000]\n",
    "k = [2, 3]\n",
    "p = 0.5\n",
    "for i in n:\n",
    "    tosses = np.random.choice([\"H\",\"T\"],p = [p,1-p], size = i)\n",
    "    #print(list(tosses))\n",
    "    for j in k:\n",
    "        print(\"Ймовірність випадіння {} гербів при n = {} : {}\".format(j,i,check_repeats(list(tosses),j)/i))"
   ]
  },
  {
   "cell_type": "code",
   "execution_count": 3,
   "metadata": {},
   "outputs": [
    {
     "name": "stdout",
     "output_type": "stream",
     "text": [
      "n = 3, x_max = 6\n",
      "Our theoretical probability: 0.4212962962962963\n",
      "Empirical probability: 0.4275\n",
      "n = 2, x_max = 3\n",
      "Our theoretical probability: 0.1388888888888889\n",
      "Empirical probability: 0.1356\n",
      "n = 3, x_max = 5\n",
      "Our theoretical probability: 0.2824074074074074\n",
      "Empirical probability: 0.2763\n"
     ]
    }
   ],
   "source": [
    "#task3\n",
    "import numpy as np\n",
    "import itertools\n",
    "N = 10000\n",
    "val = [1, 2, 3, 4, 5 ,6]\n",
    "p = [[3 ,6], [2,3], [3,5]]\n",
    "\n",
    "def prob(n,x_max):\n",
    "    lst = list(itertools.product(val, repeat=n))\n",
    "    print('n = {}, x_max = {}'.format(n, x_max))\n",
    "    a = []\n",
    "    for x in lst:\n",
    "        if max(x) == x_max:\n",
    "            a.append(x)\n",
    "\n",
    "    return (len(a) / len(lst))\n",
    "\n",
    "\n",
    "\n",
    "for n, x_max in p:\n",
    "     if (x_max >=1) and (x_max<=6):   \n",
    "        print('Our theoretical probability:',prob(n,x_max))\n",
    "        b = [max(np.random.choice(val, size=n)) for i  in range(N)]\n",
    "        print('Empirical probability:', (b.count(x_max)/N))\n",
    "     else:\n",
    "         print(0)"
   ]
  },
  {
   "cell_type": "code",
   "execution_count": 19,
   "metadata": {},
   "outputs": [
    {
     "name": "stdout",
     "output_type": "stream",
     "text": [
      "n = 3, sum = 13\n",
      "Our theoretical probability: 0.09722222222222222\n",
      "Empirical probability: 0.0938\n",
      "n = 2, sum = 5\n",
      "Our theoretical probability: 0.1111111111111111\n",
      "Empirical probability: 0.1103\n",
      "n = 3, sum = 7\n",
      "Our theoretical probability: 0.06944444444444445\n",
      "Empirical probability: 0.0701\n"
     ]
    }
   ],
   "source": [
    "#task4\n",
    "import numpy as np\n",
    "import itertools\n",
    "N = 10000\n",
    "val = [1, 2, 3, 4, 5 ,6]\n",
    "p = [[3 ,13], [2,5], [3,7]]\n",
    "\n",
    "def prob(n,summma):\n",
    "    lst = list(itertools.product(val, repeat=n))\n",
    "    print('n = {}, sum = {}'.format(n, summma))\n",
    "    a = []\n",
    "\n",
    "    for x in lst:\n",
    "        if sum(x) == summma:\n",
    "            a.append(x)\n",
    "\n",
    "    return (len(a) / len(lst))\n",
    "\n",
    "\n",
    "\n",
    "for n, summma in p:\n",
    "     if (summma >=n) and (summma<=6*n):   \n",
    "        print('Our theoretical probability:',prob(n,summma))\n",
    "        b = [sum(np.random.choice(val, size=n)) for i  in range(N)]\n",
    "        print('Empirical probability:', (b.count(summma)/N))\n",
    "     else:\n",
    "         print(0)"
   ]
  },
  {
   "cell_type": "code",
   "execution_count": null,
   "metadata": {},
   "outputs": [],
   "source": []
  }
 ],
 "metadata": {
  "kernelspec": {
   "display_name": "Python 3",
   "language": "python",
   "name": "python3"
  },
  "language_info": {
   "codemirror_mode": {
    "name": "ipython",
    "version": 3
   },
   "file_extension": ".py",
   "mimetype": "text/x-python",
   "name": "python",
   "nbconvert_exporter": "python",
   "pygments_lexer": "ipython3",
   "version": "3.7.1"
  }
 },
 "nbformat": 4,
 "nbformat_minor": 2
}
